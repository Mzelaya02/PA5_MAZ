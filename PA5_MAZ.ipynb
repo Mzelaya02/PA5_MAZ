{
 "cells": [
  {
   "cell_type": "markdown",
   "id": "45821f2f",
   "metadata": {},
   "source": [
    "# Computer Programming For the Liberal Arts "
   ]
  },
  {
   "cell_type": "markdown",
   "id": "fd3081f1",
   "metadata": {},
   "source": [
    "## Michael Zelaya "
   ]
  },
  {
   "cell_type": "markdown",
   "id": "74045b1d",
   "metadata": {},
   "source": [
    "## Programming Assignment 5 (Version 5)"
   ]
  },
  {
   "cell_type": "markdown",
   "id": "6cb15d5f",
   "metadata": {},
   "source": [
    "## Spring 2023"
   ]
  },
  {
   "cell_type": "markdown",
   "id": "ac941a92",
   "metadata": {},
   "source": [
    "#### A)"
   ]
  },
  {
   "cell_type": "code",
   "execution_count": 2,
   "id": "447ff095",
   "metadata": {},
   "outputs": [
    {
     "name": "stdout",
     "output_type": "stream",
     "text": [
      "Enter a word to translate from English to Spanish (Enter 0 to stop): chair\n",
      "The definition of the chair is silla\n",
      "Enter a word to translate from English to Spanish (Enter 0 to stop): good night\n",
      "The definition of the good night is buenas noches\n",
      "Enter a word to translate from English to Spanish (Enter 0 to stop): sit\n",
      "The spanish word for sit is not in this dicttionary\n",
      "Enter a word to translate from English to Spanish (Enter 0 to stop): food\n",
      "The definition of the food is comida\n",
      "Enter a word to translate from English to Spanish (Enter 0 to stop): 0\n"
     ]
    }
   ],
   "source": [
    "dictionary={\"chair\": \"silla\", \n",
    "            \"book\": \"libro\", \n",
    "            \"food\": \"comida\",\n",
    "            \"dog\": \"perro\", \n",
    "            \"eat\": \"comer\",\n",
    "            \"drink\": \"beber\",\n",
    "            \"world\": \"mundo\",\n",
    "            \"phone\": \"telephono\",\n",
    "            \"good night\": \"buenas noches\",\n",
    "            \"good morning\": \"buenas dias\"}\n",
    "word=\" \"\n",
    "while word!='0':\n",
    "    word=input(\"Enter a word to translate from English to Spanish (Enter 0 to stop): \")\n",
    "    if word in dictionary:\n",
    "        print(f\"The definition of the {word} is\", dictionary[word])\n",
    "    elif word=='0':\n",
    "        break\n",
    "    else:\n",
    "        print(\"The spanish word for\", word, \"is not in this dicttionary\")\n",
    "    \n"
   ]
  },
  {
   "cell_type": "markdown",
   "id": "ff821fc8",
   "metadata": {},
   "source": [
    "#### B)"
   ]
  },
  {
   "cell_type": "code",
   "execution_count": 3,
   "id": "a8c4392b",
   "metadata": {
    "scrolled": true
   },
   "outputs": [
    {
     "name": "stdout",
     "output_type": "stream",
     "text": [
      "{1: 1, 2: 3, 3: 0, 4: 10, 5: 13, 6: 14, 7: 18, 8: 13, 9: 18, 10: 8, 11: 11, 12: 15, 13: 18, 14: 17, 15: 24, 16: 16, 17: 2, 18: 10, 19: 17, 20: 18, 21: 16, 22: 25, 23: 23, 24: 10, 25: 13, 26: 16, 27: 21, 28: 16}\n"
     ]
    }
   ],
   "source": [
    "temp_dict={1:34, \n",
    "           2:38,\n",
    "           3:32,\n",
    "           4:50,\n",
    "           5:55,\n",
    "           6:57,\n",
    "           7:64,\n",
    "           8:56,\n",
    "           9:64,\n",
    "           10:46,\n",
    "           11:51,\n",
    "           12:59,\n",
    "           13:64,\n",
    "           14:63,\n",
    "           15:75,\n",
    "           16:61,\n",
    "           17:35,\n",
    "           18:50,\n",
    "           19:62,\n",
    "           20:64,\n",
    "           21:61,\n",
    "           22:77,\n",
    "           23:74,\n",
    "           24:50,\n",
    "           25:56,\n",
    "           26:60,\n",
    "           27:70,\n",
    "           28:61\n",
    "          }\n",
    "i=1\n",
    "while temp_dict:\n",
    "    if i==29:\n",
    "        break\n",
    "    else:\n",
    "        temp_dict[i]=round((temp_dict[i]-32)*5/9)\n",
    "        i+=1\n",
    "print(temp_dict)"
   ]
  },
  {
   "cell_type": "markdown",
   "id": "7ed9005e",
   "metadata": {},
   "source": [
    "#### C)"
   ]
  },
  {
   "cell_type": "code",
   "execution_count": 5,
   "id": "c40e853e",
   "metadata": {
    "scrolled": true
   },
   "outputs": [
    {
     "name": "stdout",
     "output_type": "stream",
     "text": [
      "{1: 1, 2: 4, 3: 9, 4: 16, 5: 25, 6: 36, 7: 49, 8: 64, 9: 81, 10: 100, 11: 121, 12: 144, 13: 169, 14: 196, 15: 225}\n"
     ]
    }
   ],
   "source": [
    "numbers={}\n",
    "i=1\n",
    "while i<=15:\n",
    "    numbers.update({i:i**2})\n",
    "    i+=1\n",
    "print(numbers)"
   ]
  }
 ],
 "metadata": {
  "kernelspec": {
   "display_name": "Python 3 (ipykernel)",
   "language": "python",
   "name": "python3"
  },
  "language_info": {
   "codemirror_mode": {
    "name": "ipython",
    "version": 3
   },
   "file_extension": ".py",
   "mimetype": "text/x-python",
   "name": "python",
   "nbconvert_exporter": "python",
   "pygments_lexer": "ipython3",
   "version": "3.9.13"
  }
 },
 "nbformat": 4,
 "nbformat_minor": 5
}
